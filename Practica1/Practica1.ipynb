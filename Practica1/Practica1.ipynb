{
 "cells": [
  {
   "cell_type": "markdown",
   "metadata": {},
   "source": [
    "# Pràctica 1 - El procés de l'aprenentatge automàtic:\n",
    "## Imports"
   ]
  },
  {
   "cell_type": "code",
   "execution_count": 1,
   "metadata": {},
   "outputs": [],
   "source": [
    "import os\n",
    "from sklearn.calibration import LabelEncoder\n",
    "from sklearn.discriminant_analysis import StandardScaler\n",
    "from sklearn.svm import SVC\n",
    "from sklearn.metrics import accuracy_score, confusion_matrix\n",
    "from skimage import io\n",
    "from skimage.transform import resize\n",
    "from skimage.color import rgb2gray\n",
    "import numpy as np"
   ]
  },
  {
   "cell_type": "markdown",
   "metadata": {},
   "source": [
    "## Funció de processament de dades"
   ]
  },
  {
   "cell_type": "code",
   "execution_count": 2,
   "metadata": {},
   "outputs": [],
   "source": [
    "def load_and_preprocess(folder_path, target_size=(64, 64)):\n",
    "    images = []\n",
    "    labels = []\n",
    "    \n",
    "    for label in os.listdir(folder_path):\n",
    "        label_path = os.path.join(folder_path, label)\n",
    "        \n",
    "        for image_name in os.listdir(label_path):\n",
    "            image_path = os.path.join(label_path, image_name)\n",
    "            image = io.imread(image_path)\n",
    "            \n",
    "            # Preprocess the image (resize, convert to grayscale, etc.)\n",
    "            image = resize(image, target_size)\n",
    "            # Check if the image is already grayscale\n",
    "            if image.ndim == 2:\n",
    "                # Grayscale image\n",
    "                images.append(image.flatten())\n",
    "            else:\n",
    "                # Convert color image to grayscale\n",
    "                gray_image = rgb2gray(image)\n",
    "                images.append(gray_image.flatten())\n",
    "\n",
    "            labels.append(label)\n",
    "    \n",
    "    return np.array(images), np.array(labels)"
   ]
  },
  {
   "cell_type": "markdown",
   "metadata": {},
   "source": [
    "## Processament de dades"
   ]
  },
  {
   "cell_type": "code",
   "execution_count": 3,
   "metadata": {},
   "outputs": [
    {
     "name": "stdout",
     "output_type": "stream",
     "text": [
      "Imatges train processades\n",
      "Imatges test processades\n"
     ]
    }
   ],
   "source": [
    "train_path = 'dat/train/'\n",
    "test_path = 'dat/test/'\n",
    "X_train, y_train = load_and_preprocess(train_path)\n",
    "print(\"Imatges train processades\")\n",
    "X_test, y_test = load_and_preprocess(test_path)\n",
    "print(\"Imatges test processades\")"
   ]
  },
  {
   "cell_type": "markdown",
   "metadata": {},
   "source": [
    "## Transformació de les dades"
   ]
  },
  {
   "cell_type": "code",
   "execution_count": 4,
   "metadata": {},
   "outputs": [
    {
     "name": "stdout",
     "output_type": "stream",
     "text": [
      "Imatges escalades\n"
     ]
    }
   ],
   "source": [
    "scaler = StandardScaler()\n",
    "X_train_scaled = scaler.fit_transform(X_train)\n",
    "X_test_scaled = scaler.transform(X_test)\n",
    "#label_encoder = LabelEncoder()\n",
    "#y_train = label_encoder.fit_transform(y_train)\n",
    "#y_test = label_encoder.fit_transform(y_test)\n",
    "print(\"Imatges escalades\")"
   ]
  },
  {
   "cell_type": "markdown",
   "metadata": {},
   "source": [
    "## Entrenament i test dels SVM"
   ]
  },
  {
   "cell_type": "markdown",
   "metadata": {},
   "source": [
    "### Kernel Lineal"
   ]
  },
  {
   "cell_type": "code",
   "execution_count": 6,
   "metadata": {},
   "outputs": [
    {
     "name": "stdout",
     "output_type": "stream",
     "text": [
      "KERNEL LINEAL\n",
      "Model entrenat\n",
      "Confusion matrix:\n",
      " [[24  3 12  3  3  4  6 14  5  9  5  2  8 11  7]\n",
      " [ 7 48  2  2  1  2 14 14  2  3  6  5  0  3  6]\n",
      " [ 8  3 81  4 13  6 12 89 21 30  6 13  7  4 13]\n",
      " [20  5 23 12 14  8 18 25 25  9  6 13 14  8 15]\n",
      " [ 7  2 23 10 74 15  6 17  8  6  8  3  4  7  2]\n",
      " [ 8  2 16  3 18 41  5  5  8  6  2  4  3 11  9]\n",
      " [16 20 11  5  8  2 61 36 23  8 19 11  6 12 18]\n",
      " [10  4 45  4  4  8 15 91 17 39  5  0  1  1 16]\n",
      " [ 5  6 26 10 12  1 27 30 51  9  6 14  4  8 19]\n",
      " [ 4  0 35  1  6  4  1 33  5 63  2  1  2  0  3]\n",
      " [16 16 16  4 12  3 17 30 14 21 26  9  4 12 11]\n",
      " [ 8  7 38  6  7  5 12 18 35 10 15 24  9  6  8]\n",
      " [14  8 11  4  3  7  4 12 10  7  5  6  9  6  4]\n",
      " [22  7 11  5  6 13  8 17 12 16  7  8 12 39  6]\n",
      " [25  7 33  5 11  9 22 55 29 33 13  7  4  1 20]]\n",
      "Accuracy:  0.22244556113902847\n"
     ]
    }
   ],
   "source": [
    "print(\"KERNEL LINEAL\")\n",
    "svm = SVC(kernel='linear')\n",
    "svm.fit(X_train_scaled, y_train)\n",
    "print(\"Model entrenat\")\n",
    "y_pred = svm.predict(X_test_scaled)\n",
    "\n",
    "# Evaluate the Model\n",
    "cf_matrix = confusion_matrix(y_test, y_pred)\n",
    "print(\"Confusion matrix:\\n\", cf_matrix)\n",
    "accuracy = accuracy_score(y_test, y_pred)\n",
    "print(\"Accuracy: \", accuracy)"
   ]
  },
  {
   "cell_type": "markdown",
   "metadata": {},
   "source": [
    "### Kernel RBF"
   ]
  },
  {
   "cell_type": "code",
   "execution_count": 5,
   "metadata": {},
   "outputs": [
    {
     "name": "stdout",
     "output_type": "stream",
     "text": [
      "KERNEL RBF\n",
      "Model entrenat\n",
      "Confusion matrix:\n",
      " [[ 34   3   0   5   2   3   5   8   5  10  13   3  16   6   3]\n",
      " [ 15  43   0   3   0   0  16   2   8   2  11   2   6   6   1]\n",
      " [  6   1  96   5   3   9  10  26  61  57   3  15   7   3   8]\n",
      " [ 20   5   4  48   6   9  26   2  28   5   1  15  31  13   2]\n",
      " [  6   3  11  11  94  13   2   4  12   7   9   7   8   3   2]\n",
      " [  6   0   2   6   3  95   3   1   4   1   5   0   7   7   1]\n",
      " [ 17  20   7  15   1   2  62   5  45  11  22   9  27   6   7]\n",
      " [  9   5  36   7   1   5  21  45  37  61   4   6   5   1  17]\n",
      " [  5  11  15   8   5   4  29   3 105   6   7  15   6   4   5]\n",
      " [  5   3  13   1   1   5   0   3  10 112   2   1   1   0   3]\n",
      " [ 24   6  16   9   5  13  12   2  18  16  58   6  14   8   4]\n",
      " [  5   5  22  14   2  13  13   4  52   7   7  37  18   7   2]\n",
      " [ 15   9   2  13   1   4   5   2  10   5  10   6  24   4   0]\n",
      " [ 24   8   2  18   5  11  15   6   8  11  18   3  28  29   3]\n",
      " [ 16  11  21  19   5   6  22  18  34  24  15  14  17   6  46]]\n",
      "Accuracy:  0.31088777219430486\n"
     ]
    }
   ],
   "source": [
    "print(\"KERNEL RBF\")\n",
    "svm = SVC(kernel='rbf')\n",
    "svm.fit(X_train_scaled, y_train)\n",
    "print(\"Model entrenat\")\n",
    "y_pred = svm.predict(X_test_scaled)\n",
    "\n",
    "# Evaluate the Model\n",
    "cf_matrix = confusion_matrix(y_test, y_pred)\n",
    "print(\"Confusion matrix:\\n\", cf_matrix)\n",
    "accuracy = accuracy_score(y_test, y_pred)\n",
    "print(\"Accuracy: \", accuracy)"
   ]
  },
  {
   "cell_type": "markdown",
   "metadata": {},
   "source": [
    "### Kernel Polinomic"
   ]
  },
  {
   "cell_type": "code",
   "execution_count": 8,
   "metadata": {},
   "outputs": [
    {
     "name": "stdout",
     "output_type": "stream",
     "text": [
      "KERNEL POLINOMIC\n",
      "Confusion matrix:\n",
      " [[ 11   2  54   4   1   0   1   0   1   2  16   2  15   2   5   0]\n",
      " [ 35  14 128  20   6   2  21   0   1   6   4   3   7   1  12   0]\n",
      " [  5  56  57  42   2   4  12   1   0  21   2   0  13   0  13   0]\n",
      " [  4   3 131   5   3   0   7   1   0   1   2   0   2   0   1   0]\n",
      " [ 14  12  76  21   0   2  25   0   2  10   6  24  11   3   5   0]\n",
      " [  8  18  79  55   2   2  18   2   3   2   0   2  10   0   7   0]\n",
      " [  7   1  48  17   0   3   2   0   0   2   2   1  23   1   3   0]\n",
      " [ 11   7  78  16   1   4   4   2   0   6   8   0  25  21   6   0]\n",
      " [  5   7  64  14   1   2   3   2   0   6   7   0  18  20   5   0]\n",
      " [ 25  21  90  29  16   2  21   5   2  19   3   4  16   2  19   0]\n",
      " [  5  10  34  13   0  28   0   0   0   8   3   2  10   1   1   0]\n",
      " [ 18  12 131  46   4   0  67   1   2   6   0   2   7   0  14   0]\n",
      " [  8  13  90  40   2   0   9   0   1  10   3   0  23   0  16   0]\n",
      " [  5   5  70  14   0   3  21  58   3   1   2   1   8   0   1   0]\n",
      " [  3   8  46  12   0   0  12   7  39   1   0   1   7   1   4   0]\n",
      " [ 10  24  81  39   3  10   3   1   0  36   5   7  24   1  12   0]]\n",
      "Accuracy:  0.04587448231920994\n"
     ]
    }
   ],
   "source": [
    "print(\"KERNEL POLINOMIC\")\n",
    "svm = SVC(kernel='poly')\n",
    "svm.fit(X_train_scaled, y_train)\n",
    "print(\"Model entrenat\")\n",
    "y_pred = svm.predict(X_test_scaled)\n",
    "\n",
    "# Evaluate the Model\n",
    "cf_matrix = confusion_matrix(y_test, y_pred)\n",
    "print(\"Confusion matrix:\\n\", cf_matrix)\n",
    "accuracy = accuracy_score(y_test, y_pred)\n",
    "print(\"Accuracy: \", accuracy)"
   ]
  }
 ],
 "metadata": {
  "kernelspec": {
   "display_name": "Python 3",
   "language": "python",
   "name": "python3"
  },
  "language_info": {
   "codemirror_mode": {
    "name": "ipython",
    "version": 3
   },
   "file_extension": ".py",
   "mimetype": "text/x-python",
   "name": "python",
   "nbconvert_exporter": "python",
   "pygments_lexer": "ipython3",
   "version": "3.12.0"
  }
 },
 "nbformat": 4,
 "nbformat_minor": 2
}
