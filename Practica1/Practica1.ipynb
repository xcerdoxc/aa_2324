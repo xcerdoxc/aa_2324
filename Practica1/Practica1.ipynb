{
 "cells": [
  {
   "cell_type": "markdown",
   "metadata": {},
   "source": [
    "# Pràctica 1 - El procés de l'aprenentatge automàtic:\n",
    "## Imports"
   ]
  },
  {
   "cell_type": "code",
   "execution_count": 1,
   "metadata": {},
   "outputs": [],
   "source": [
    "import os\n",
    "from sklearn.calibration import LabelEncoder\n",
    "from sklearn.discriminant_analysis import StandardScaler\n",
    "from sklearn.svm import SVC\n",
    "from sklearn.metrics import accuracy_score, confusion_matrix\n",
    "from skimage import io\n",
    "from skimage.transform import resize\n",
    "from skimage.color import rgb2gray\n",
    "import numpy as np"
   ]
  },
  {
   "cell_type": "markdown",
   "metadata": {},
   "source": [
    "## Funció de processament de dades"
   ]
  },
  {
   "cell_type": "code",
   "execution_count": 2,
   "metadata": {},
   "outputs": [],
   "source": [
    "def load_and_preprocess(folder_path, target_size=(64, 64)):\n",
    "    images = []\n",
    "    labels = []\n",
    "    \n",
    "    for label in os.listdir(folder_path):\n",
    "        label_path = os.path.join(folder_path, label)\n",
    "        \n",
    "        for image_name in os.listdir(label_path):\n",
    "            image_path = os.path.join(label_path, image_name)\n",
    "            image = io.imread(image_path)\n",
    "            \n",
    "            # Preprocess the image (resize, convert to grayscale, etc.)\n",
    "            image = resize(image, target_size)\n",
    "            # Check if the image is already grayscale\n",
    "            if image.ndim == 2:\n",
    "                # Grayscale image\n",
    "                images.append(image.flatten())\n",
    "            else:\n",
    "                # Convert color image to grayscale\n",
    "                gray_image = rgb2gray(image)\n",
    "                images.append(gray_image.flatten())\n",
    "\n",
    "            labels.append(label)\n",
    "    \n",
    "    return np.array(images), np.array(labels)"
   ]
  },
  {
   "cell_type": "markdown",
   "metadata": {},
   "source": [
    "## Processament de dades"
   ]
  },
  {
   "cell_type": "code",
   "execution_count": 3,
   "metadata": {},
   "outputs": [
    {
     "name": "stdout",
     "output_type": "stream",
     "text": [
      "Imatges train processades\n",
      "Imatges test processades\n"
     ]
    }
   ],
   "source": [
    "train_path = 'dat/train/'\n",
    "test_path = 'dat/test/'\n",
    "X_train, y_train = load_and_preprocess(train_path)\n",
    "print(\"Imatges train processades\")\n",
    "X_test, y_test = load_and_preprocess(test_path)\n",
    "print(\"Imatges test processades\")"
   ]
  },
  {
   "cell_type": "markdown",
   "metadata": {},
   "source": [
    "## Transformació de les dades"
   ]
  },
  {
   "cell_type": "code",
   "execution_count": 4,
   "metadata": {},
   "outputs": [
    {
     "name": "stdout",
     "output_type": "stream",
     "text": [
      "Imatges escalades\n"
     ]
    }
   ],
   "source": [
    "scaler = StandardScaler()\n",
    "X_train_scaled = scaler.fit_transform(X_train)\n",
    "X_test_scaled = scaler.transform(X_test)\n",
    "label_encoder = LabelEncoder()\n",
    "y_train = label_encoder.fit_transform(y_train)\n",
    "y_test = label_encoder.fit_transform(y_test)\n",
    "print(\"Imatges escalades\")"
   ]
  },
  {
   "cell_type": "markdown",
   "metadata": {},
   "source": [
    "## Entrenament i test dels SVM"
   ]
  },
  {
   "cell_type": "markdown",
   "metadata": {},
   "source": [
    "### Kernel Lineal"
   ]
  },
  {
   "cell_type": "code",
   "execution_count": 6,
   "metadata": {},
   "outputs": [
    {
     "name": "stdout",
     "output_type": "stream",
     "text": [
      "KERNEL LINEAL\n",
      "Confusion matrix:\n",
      " [[ 18   5  10   2   8   4   9   3   4   7  20   5   8  11   2   0]\n",
      " [108  21  42   0  22   1  30   4   7   9   7   5   1   1   2   0]\n",
      " [ 35  61  11  18  22   7  15  11   1  21   3   5   4   7   7   0]\n",
      " [ 39   6  70   2   4   0  26   4   3   0   2   2   2   0   0   0]\n",
      " [ 42  19  22  11  13  13  13   9   3  12  10  26   4  12   2   0]\n",
      " [ 25  41  12  28  14   5  27   8   3   8   5  15   8   6   3   0]\n",
      " [ 19  10   8   6   7   6   9   2   5   4  12   5   8   5   4   0]\n",
      " [ 22  12  26  10   8   5   4   7  11   9  13   7  12  38   5   0]\n",
      " [ 18  12  23   8   4   2   2   5   8   8  12   6   9  34   3   0]\n",
      " [ 62  34  37   7  29   6  23  10   6  21  20  13   3   1   2   0]\n",
      " [ 17   2   4   5   8  47   2   0   1  14   4   6   0   3   2   0]\n",
      " [106  23  34  17  16   3  65  10   5   9   3   6   6   4   3   0]\n",
      " [ 33  27  10  14  21   5  17  13   9  14  15   6  14   8   9   0]\n",
      " [ 25  11   8   6   4   2  16  72  14   6   3   8   3   7   7   0]\n",
      " [  6   9   8   4  15   2  12  19  39   5   6   2   3  10   1   0]\n",
      " [ 43  29   9  14  23  16  10   8   3  50  11  18   7  13   2   0]]\n",
      "Accuracy:  0.04683020070086014\n"
     ]
    }
   ],
   "source": [
    "print(\"KERNEL LINEAL\")\n",
    "svm = SVC(kernel='linear')\n",
    "svm.fit(X_train_scaled, y_train)\n",
    "y_pred = svm.predict(X_test_scaled)\n",
    "\n",
    "# Evaluate the Model\n",
    "cf_matrix = confusion_matrix(y_test, y_pred)\n",
    "print(\"Confusion matrix:\\n\", cf_matrix)\n",
    "accuracy = accuracy_score(y_test, y_pred)\n",
    "print(\"Accuracy: \", accuracy)"
   ]
  },
  {
   "cell_type": "markdown",
   "metadata": {},
   "source": [
    "### Kernel RBF"
   ]
  },
  {
   "cell_type": "code",
   "execution_count": 7,
   "metadata": {},
   "outputs": [
    {
     "name": "stdout",
     "output_type": "stream",
     "text": [
      "KERNEL RBF\n",
      "Confusion matrix:\n",
      " [[  8   5  10   3   3   3   0   2   3   5  34  13  16   6   5   0]\n",
      " [ 50  40  62   6  18   4  31   1   5  18   9   4   4   1   7   0]\n",
      " [  3 106   8  17   5  11  11   5   4  29   5   7   6   4   7   0]\n",
      " [  3  12 112   1   4   2  12   1   5   0   4   2   2   0   0   0]\n",
      " [  5  18  16   7   5   7  15   5  13  11  21  58  14   7   9   0]\n",
      " [  6  54   8  38   4   4  16   2  13  12   5   7  18   7  14   0]\n",
      " [  3  10   6   6   0   7   2   1   4   6  14  10  24   4  13   0]\n",
      " [  6   8  12   3   3   8   2   5  11  15  23  18  28  29  18   0]\n",
      " [  5   8   9   3   3   6   1   5   9  13  16  14  22  25  15   0]\n",
      " [ 21  37  25  15  46  11  17   5   6  21  15  15  17   6  17   0]\n",
      " [  2   9   3   2   1  43   0   0   0  16  14  11   6   6   2   0]\n",
      " [ 29  63  59  15   8   0  94   3   9   9   3   3   7   3   5   0]\n",
      " [  3  29   5  17   2   5   4   6   9  26  20   1  31  14  43   0]\n",
      " [  4  13   9   7   3   3  10  92  13   2   5   9   8   3  11   0]\n",
      " [  2   5   1   0   2   0   2   3  94   3   5   5   7   7   5   0]\n",
      " [  7  45  11  10   7  20   6   1   2  61  17  21  27   6  15   0]]\n",
      "Accuracy:  0.05065307422746097\n"
     ]
    }
   ],
   "source": [
    "print(\"KERNEL RBF\")\n",
    "svm = SVC(kernel='rbf')\n",
    "svm.fit(X_train_scaled, y_train)\n",
    "y_pred = svm.predict(X_test_scaled)\n",
    "\n",
    "# Evaluate the Model\n",
    "cf_matrix = confusion_matrix(y_test, y_pred)\n",
    "print(\"Confusion matrix:\\n\", cf_matrix)\n",
    "accuracy = accuracy_score(y_test, y_pred)\n",
    "print(\"Accuracy: \", accuracy)"
   ]
  },
  {
   "cell_type": "markdown",
   "metadata": {},
   "source": [
    "### Kernel Polinomic"
   ]
  },
  {
   "cell_type": "code",
   "execution_count": 8,
   "metadata": {},
   "outputs": [
    {
     "name": "stdout",
     "output_type": "stream",
     "text": [
      "KERNEL POLINOMIC\n",
      "Confusion matrix:\n",
      " [[ 11   2  54   4   1   0   1   0   1   2  16   2  15   2   5   0]\n",
      " [ 35  14 128  20   6   2  21   0   1   6   4   3   7   1  12   0]\n",
      " [  5  56  57  42   2   4  12   1   0  21   2   0  13   0  13   0]\n",
      " [  4   3 131   5   3   0   7   1   0   1   2   0   2   0   1   0]\n",
      " [ 14  12  76  21   0   2  25   0   2  10   6  24  11   3   5   0]\n",
      " [  8  18  79  55   2   2  18   2   3   2   0   2  10   0   7   0]\n",
      " [  7   1  48  17   0   3   2   0   0   2   2   1  23   1   3   0]\n",
      " [ 11   7  78  16   1   4   4   2   0   6   8   0  25  21   6   0]\n",
      " [  5   7  64  14   1   2   3   2   0   6   7   0  18  20   5   0]\n",
      " [ 25  21  90  29  16   2  21   5   2  19   3   4  16   2  19   0]\n",
      " [  5  10  34  13   0  28   0   0   0   8   3   2  10   1   1   0]\n",
      " [ 18  12 131  46   4   0  67   1   2   6   0   2   7   0  14   0]\n",
      " [  8  13  90  40   2   0   9   0   1  10   3   0  23   0  16   0]\n",
      " [  5   5  70  14   0   3  21  58   3   1   2   1   8   0   1   0]\n",
      " [  3   8  46  12   0   0  12   7  39   1   0   1   7   1   4   0]\n",
      " [ 10  24  81  39   3  10   3   1   0  36   5   7  24   1  12   0]]\n",
      "Accuracy:  0.04587448231920994\n"
     ]
    }
   ],
   "source": [
    "print(\"KERNEL POLINOMIC\")\n",
    "svm = SVC(kernel='poly')\n",
    "svm.fit(X_train_scaled, y_train)\n",
    "y_pred = svm.predict(X_test_scaled)\n",
    "\n",
    "# Evaluate the Model\n",
    "cf_matrix = confusion_matrix(y_test, y_pred)\n",
    "print(\"Confusion matrix:\\n\", cf_matrix)\n",
    "accuracy = accuracy_score(y_test, y_pred)\n",
    "print(\"Accuracy: \", accuracy)"
   ]
  }
 ],
 "metadata": {
  "kernelspec": {
   "display_name": "Python 3",
   "language": "python",
   "name": "python3"
  },
  "language_info": {
   "codemirror_mode": {
    "name": "ipython",
    "version": 3
   },
   "file_extension": ".py",
   "mimetype": "text/x-python",
   "name": "python",
   "nbconvert_exporter": "python",
   "pygments_lexer": "ipython3",
   "version": "3.12.0"
  }
 },
 "nbformat": 4,
 "nbformat_minor": 2
}
