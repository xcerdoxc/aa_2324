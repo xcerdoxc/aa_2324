{
 "cells": [
  {
   "cell_type": "markdown",
   "source": [
    "# Pràctica 3 - Linear SVM\n",
    "\n",
    "## Primera feina\n",
    "En aquesta primera part de la práctica realitzarem una comparativa entre la recta de classificació que podem trobar amb _Adaline_ i la que podem trobar amb una _SVM_ lineal.\n",
    "\n",
    "La primera tasca que heu de realitzar és entrenar una SVM amb les mateixes dades que vàrem emprar a la pràctica anterior. Heu de dibuixar la recta que obtendriem amb la SVM i també marcar els vectors de suport, d'aquesta manera podreu observar les diferències entre aquests dos classificadors lineals.\n",
    "\n",
    "Al fitxer _main.py_ ja teniu el codi d'Adaline (també us proporciono la classe Adaline resolta) i les parts del codi que heu d'anar emplenant.\n"
   ],
   "metadata": {
    "collapsed": false
   }
  },
  {
   "cell_type": "markdown",
   "source": [
    "## SVM a la práctica\n",
    "\n",
    "Scikit té diverses implementacions de les SVM:\n",
    "\n",
    "   - **SVC**: ([enllaç](https://scikit-learn.org/stable/modules/generated/sklearn.svm.SVC.html?highlight=svc#sklearn-svm-svc)) La implementació es basa en `libsvm`. El temps d'entrenament s'escala almenys quadràticament amb el nombre de mostres i per aquest motiu pot ser poc pràctic més enllà de desenes de milers de mostres.\n",
    "   - **LinearSVC**: ([enllaç](https://scikit-learn.org/stable/modules/generated/sklearn.svm.LinearSVC.html#sklearn.svm.LinearSVC)) Similar a SVC amb el paràmetre `kernel='linear'`, però implementat en termes de **liblinear** en lloc de libsvm, de manera que té més flexibilitat en l'elecció de penalitzacions i funcions de pèrdua i hauria d'escalar millor a un gran nombre de mostres.\n",
    "   - **NuSVC**: ([enllaç](https://scikit-learn.org/stable/modules/generated/sklearn.svm.NuSVC.html#sklearn-svm-nusvc)) Similar a SVC, però utilitza un paràmetre per controlar el nombre de vectors de suport. La implementació es basa en `libsvm`.\n",
    "\n",
    "Avui farem feina amb la implementació **SVC**, ja que tenim poques mostres i la seva dimensionalitat és petita. Anem a veure els paràmetres del constructor que emprarem d'aquesta classe:\n",
    "\n",
    "   - `C`: Paràmetre de regularització, la seva capacitat és inversament proporcional al valor del paràmetre. Més petit, més permisivat a tenir elements mal classificats durant l'entrenament. Per la primera part de la pràctica recomano emprar valors molt grans (per exemple 1000) encara que després podeu experimentar amb altres valors més petits.\n",
    "   - `kernel`: En aquesta pràctica el fixarem al valor `linear`.\n",
    "\n",
    "El seu ús és bastant senzill, un cop hem creat l'objecte de la classe `SVC`, el procés d'entrenament i predicció es duu a terme amb els mètodes:\n",
    "\n",
    "- `fit(X, y, sample_weight=None)` : Ajusta el model segons les dades d'entrenament proporcionades.\n",
    "- `predict(X)`: Realitza la classificació i retorna un vector amb les etiquetes de classe per les mostres de `X`.\n",
    "\n",
    "Un cop realitzat l'ajustament necessitarem consultar dos atributs d'aquesta classe per poder dibuixar la recta de classificació:\n",
    "\n",
    "- `support_vectors_`: conté una llista amb els vectors de suport emprats per la classificació.\n",
    "- `coef_`: vector que conté els pesos assignats a les característiques. Similar la posició 1 i 2 del nostre vector de pesos al perceptró (sense contar el bias).\n",
    "- `intercept_`: conté el valor restant del nostre vector de pesos, el que a `Adaline` sería la posició 0."
   ],
   "metadata": {
    "collapsed": false
   }
  },
  {
   "cell_type": "markdown",
   "source": [
    "## Segona feina\n",
    "\n",
    "En aquesta segona feina passarem a fer treballar amb un conjunt de dades artificial (similar als que hem emprat fins ara) però amb una dimensionalitat major. Com que ara ja no podem dibuixar la divisió entre classes, necessitarem refinar la manera amb la qual avaluem els nostres resultats i definirem una mètrica. Això tendrà altres conseqüències\n",
    "\n",
    "El procés de feina que seguirem serà el següent:\n",
    "\n",
    "- Separació del conjunt de dades en subconjunts d'entrenament i test. Emprar la funció _train_test_split_ ([enllaç](https://scikit-learn.org/stable/modules/generated/sklearn.model_selection.train_test_split.html)).\n",
    "- Estandaritzar els dos conjunts **respecte al conjunt d'entrenament**.\n",
    "- Entrenar el model SVM lineal emprant el conjunt d'entrenament.\n",
    "- Realitzar la predicció emprant el conjunt de test i calcular la tasa d'acerts, ho heu de calcular vosaltres:\n",
    " $$ tasa = \\frac{|acerts|}{|mostres|} $$\n",
    "\n",
    "Podeu trobar el conjunt de dades al fitxer _dimensions.py_"
   ],
   "metadata": {
    "collapsed": false
   }
  }
 ],
 "metadata": {
  "kernelspec": {
   "display_name": "Python 3",
   "language": "python",
   "name": "python3"
  },
  "language_info": {
   "codemirror_mode": {
    "name": "ipython",
    "version": 2
   },
   "file_extension": ".py",
   "mimetype": "text/x-python",
   "name": "python",
   "nbconvert_exporter": "python",
   "pygments_lexer": "ipython2",
   "version": "2.7.6"
  }
 },
 "nbformat": 4,
 "nbformat_minor": 0
}
