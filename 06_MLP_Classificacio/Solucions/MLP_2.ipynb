{
 "cells": [
  {
   "cell_type": "code",
   "execution_count": 1,
   "metadata": {
    "id": "FaadnhbpCcsh",
    "tags": []
   },
   "outputs": [],
   "source": [
    "import torch\n",
    "import torch.nn as nn\n",
    "import torch.nn.functional as F\n",
    "import torch.optim as optim\n",
    "from torchvision import datasets, transforms\n",
    "import torch.optim as optim\n",
    "\n",
    "import matplotlib.pyplot as plt\n",
    "import numpy as np"
   ]
  },
  {
   "cell_type": "markdown",
   "metadata": {
    "id": "Ly7lrx-gCuLy"
   },
   "source": [
    "## Dades\n",
    "\n",
    "Emprarem el dataset **EMNIST**. És un conjunt de dígits de caràcters escrits a mà derivats de la base de dades del NIST 19 i convertits a un format d'imatge seguint una estructura que coincideix directament amb el conjunt de dades del MNIST.\n",
    "\n",
    "Cada un dels elements del dataset és una imatge de 28x28 pixels i pot ser de 47 classes diferents. La descripció és al següent article: [enllaç](https://arxiv.org/pdf/1702.05373v1.pdf)\n",
    "La càrrega i preparació de les dades segueix la mateixa estructura que quan fèiem aprenentatge emprant SVM, afegint una passa més, la creació de subconjunts d'entrenament (també coneguts com _mini-batches_).\n",
    "\n",
    "1. Càrrega de dades.\n",
    "2. Estandarització.\n",
    "3. Creació de grups d'entrenament.\n"
   ]
  },
  {
   "cell_type": "code",
   "execution_count": 3,
   "metadata": {
    "id": "PwSoPhjXCvV9",
    "tags": []
   },
   "outputs": [
    {
     "name": "stdout",
     "output_type": "stream",
     "text": [
      "Downloading https://www.itl.nist.gov/iaui/vip/cs_links/EMNIST/gzip.zip to data/EMNIST/raw/gzip.zip\n"
     ]
    },
    {
     "name": "stderr",
     "output_type": "stream",
     "text": [
      "100%|██████████| 561753746/561753746 [00:30<00:00, 18471573.70it/s]\n"
     ]
    },
    {
     "name": "stdout",
     "output_type": "stream",
     "text": [
      "Extracting data/EMNIST/raw/gzip.zip to data/EMNIST/raw\n"
     ]
    }
   ],
   "source": [
    "# El label del dataset és l'índex de la llista labels. Cada posició de la llista és un codi ASCII. Podeu emprar la funció chr per fer la transformació\n",
    "\n",
    "# Definim una seqüència (composició) de transformacions\n",
    "transform=transforms.Compose([\n",
    "    transforms.ToTensor(),\n",
    "    transforms.Normalize((0.1307,), (0.3081,)) # mitjana, desviacio tipica (precalculats)\n",
    "    ])\n",
    "\n",
    "# Descarregam un dataset ja integrat en la llibreria Pytorch\n",
    "train = datasets.EMNIST('data', split=\"digits\", train=True, download=True, transform=transform)\n",
    "test = datasets.EMNIST('data', split=\"digits\",train=False, transform=transform)"
   ]
  },
  {
   "cell_type": "markdown",
   "metadata": {},
   "source": [
    "Com és un dataset? Quina estructura té?"
   ]
  },
  {
   "cell_type": "code",
   "execution_count": 4,
   "metadata": {
    "collapsed": false,
    "jupyter": {
     "outputs_hidden": false
    },
    "tags": []
   },
   "outputs": [
    {
     "name": "stdout",
     "output_type": "stream",
     "text": [
      "Info:\n",
      "Tipus de la variable train :  <class 'torchvision.datasets.mnist.EMNIST'>\n",
      "dict_keys(['split', 'training_file', 'test_file', 'root', 'transform', 'target_transform', 'transforms', 'train', 'data', 'targets', 'classes'])\n",
      "Classes:==================================================\n",
      "['0', '1', '2', '3', '4', '5', '6', '7', '8', '9']\n"
     ]
    }
   ],
   "source": [
    "print(\"Info:\")\n",
    "print(\"Tipus de la variable train : \", type(train)) # la variable test te les mateixes característiques\n",
    "print(test.__dict__.keys()) ## Tot objecte Python té un diccionari amb els seus atributs\n",
    "classes = test.classes ## Obtenim una llista amb les classes del dataset\n",
    "print(\"Classes:\"+\"=\"*50)\n",
    "print(classes)"
   ]
  },
  {
   "cell_type": "markdown",
   "metadata": {
    "id": "j-vdST97JpfB"
   },
   "source": [
    "És molt important entendre com és l'estructura dels conjunts que necessitam per fer feina amb la xarxa.\n",
    "La classe `DataLoader` rep un conjunt de dades i una mida de `batch`, i ens proporciona un iterable sobre aquest."
   ]
  },
  {
   "cell_type": "code",
   "execution_count": 5,
   "metadata": {
    "id": "EHy3Yd6C87Fz",
    "tags": []
   },
   "outputs": [],
   "source": [
    "train_batch_size = 64\n",
    "test_batch_size = 100\n",
    "\n",
    "# Transformam les dades en l'estructura necessaria per entrenar una xarxa\n",
    "train_loader = torch.utils.data.DataLoader(train, train_batch_size)\n",
    "test_loader = torch.utils.data.DataLoader(test, test_batch_size)"
   ]
  },
  {
   "cell_type": "markdown",
   "metadata": {
    "id": "tmCCiKz29MOe"
   },
   "source": [
    "\n",
    "A continuació cream un iterador sobre el nostre conjunt d'entrenament, això ens torna un _batch_.\n",
    "Mostrarem la primera imatge juntament amb la seva etiqueta. Després mostram informació referent al _batch_."
   ]
  },
  {
   "cell_type": "code",
   "execution_count": 22,
   "metadata": {
    "id": "yispMZfr1bJn",
    "tags": []
   },
   "outputs": [],
   "source": [
    "iterador =  iter(train_loader) # Un iterador!!"
   ]
  },
  {
   "cell_type": "code",
   "execution_count": 26,
   "metadata": {
    "id": "He-cj6JuFsgr",
    "tags": []
   },
   "outputs": [
    {
     "name": "stdout",
     "output_type": "stream",
     "text": [
      "Saber l'estructura del batch us ajudarà: \n",
      "Feature batch shape: torch.Size([64, 1, 28, 28])\n",
      "Labels batch shape: torch.Size([64])\n"
     ]
    }
   ],
   "source": [
    "features, labels = next(iterador)\n",
    "\n",
    "# TODO: mostrar una imatge del batch i com a títol posar l'etiqueta.\n",
    "# Extra: mostrar una graella amb tot el batch·\n",
    "\n",
    "print(\"Saber l'estructura del batch us ajudarà: \")\n",
    "print(f\"Feature batch shape: {features.size()}\")\n",
    "print(f\"Labels batch shape: {labels.size()}\")\n"
   ]
  },
  {
   "cell_type": "markdown",
   "metadata": {
    "id": "s8i4Mg8KuD3r"
   },
   "source": [
    "## Definició de la xarxa\n",
    "Cma ja sabem (almanco ens sona de la classe anterior) emprant el mòdul `nn` de _Pytorch_ podem definir la nostra pròpia xarxa, en aquesta pràctica realitzarem una classe que la contengui, això ens dona més llibertat i flexibilitat.\n",
    "\n",
    "Com a mínim hi definirem dos mètodes:\n",
    "\n",
    "  - Constructor: mètode `__init__` en el que definim les capes de la nostra xarxa.\n",
    "  - `forward`: mètode en el qual definim com és el flux de la informació. Aquí podem afegir capes no entrenables, per exemple una `ReLu`.\n",
    "\n",
    "La xarxa que heu de crear és una xarxa densa, per tant, totes les capes seran linears: `nn.Linear`. On la darrera capa ha de tenir una dimensionalitat igual al nombre de classes que volem predir.\n",
    "\n",
    "Com a sortida és recomanable usar la funció _softmax_ que converteix un vector de $K$ nombres reals en una distribució de probabilitat de $K$ possibles resultats. És una generalització de la funció logística a múltiples dimensions, i s'utilitza en regressió logística multinomial. La funció _softmax_ s'utilitza sovint com l'última funció d'activació d'una xarxa neuronal per normalitzar la seva sortida a una distribució de probabilitat sobre les classes de sortida predites. Es calcula de la següent manera:\n",
    "\n",
    "<img src=\"https://wikimedia.org/api/rest_v1/media/math/render/svg/ab3ef6ba51afd36c1d2baf06540022053b2dca73\"\n",
    "     alt=\"Softmax\"\n",
    "     style=\"float: left; margin-right: 10px;\" />\n",
    "\n",
    "\n",
    "\n"
   ]
  },
  {
   "cell_type": "code",
   "execution_count": 44,
   "metadata": {
    "id": "Bz9rSkjSuF6r",
    "tags": []
   },
   "outputs": [],
   "source": [
    "class Net(nn.Module):\n",
    "    def __init__(self):\n",
    "        super(Net, self).__init__()\n",
    "        self.l1 = torch.nn.Linear(784, 400) # 28x28 = 784\n",
    "        self.l2 = torch.nn.Linear(400, 400) \n",
    "        self.l3 = torch.nn.Linear(400, 100) \n",
    "        self.l4 = torch.nn.Linear(100, 10)\n",
    "        # TODO: definir les capes que necessitem\n",
    "\n",
    "    def forward(self, x):\n",
    "            \n",
    "        x = torch.flatten(x, 1) # TODO: comprovar l'atribut shape de x un cop fet flatten\n",
    "        x = self.l1(x)\n",
    "        x = torch.nn.ReLU()(x)\n",
    "        x = self.l2(x)\n",
    "        x = torch.nn.ReLU()(x)\n",
    "        x = self.l3(x)\n",
    "        x = torch.nn.ReLU()(x)\n",
    "        x = self.l4(x)\n",
    "        # TODO connectar les capes. El valor de retorn d'una capa és l'entrada de la següent\n",
    "        output = F.softmax(x, dim=1)\n",
    "        return output"
   ]
  },
  {
   "cell_type": "markdown",
   "metadata": {
    "id": "A6ISOL_hCk7g"
   },
   "source": [
    "## Entrenament\n",
    "\n",
    "Les bones pràctiques de programació ens diuen que cal organitzar el codi en funcions. En definirem una per la passa d'entrenament i una altra per la fase de test.\n",
    "\n",
    "En aquesta fase s'ha de definir la funció de pèrdua, recordau que aquesta és la funció que avalua la diferència entre el que ha predit la xarxa i la sortida desitjada. Existeixen múltiples funcions de pèrdua que emprarem segons el problema a resoldre i les seves particularitats. Per exemple en el problema de regressió de la setmana passada vàrem emprar l'error absolut al quadrat (_MSE_).\n",
    "\n",
    "Nosaltres emprarem: **cross entropy** que prové de la teoria de la informació de _Shannon_ i que vé a explicar que l'entropia d'una variable aleatòria és el nivell mitjà d'informació / sorpresa / incertesa inherent als possibles resultats d'aquesta variable. La fórmula és la següent:\n",
    "\n",
    "$ LCE = -∑_{i=1}^M t_i \\log(p_i)$\n",
    "\n",
    "On $M$ és el nombre de classes, $t_i$ és un valor binari indicant si l'observació és d'aquesta classe (valor 1 si ho és i valor 0 en cas contrari) i $p_i$ és el resultat de la funció _Softmax_ per aquesta classe."
   ]
  },
  {
   "cell_type": "code",
   "execution_count": 84,
   "metadata": {
    "id": "h9OLtpPzClch",
    "tags": []
   },
   "outputs": [],
   "source": [
    "def train(model, device, train_loader, optimizer, epoch, loss_fn, log_interval=100, verbose=True):\n",
    "    \n",
    "    model.train() # Posam la xarxa en mode entrenament\n",
    "\n",
    "    loss_v = 0 # Per calcular la mitjana (és la vostra)\n",
    "\n",
    "    # Bucle per entrenar cada un dels batches\n",
    "    for batch_idx, (data, target) in enumerate(train_loader):\n",
    "    \n",
    "        data, target = data.to(device), target.to(device)  ###  Veure ús de CuDA en cel·les inferiors\n",
    "        optimizer.zero_grad()\n",
    "        output = model(data)\n",
    "        loss =  loss_fn(output, target) \n",
    "        loss.backward()\n",
    "\n",
    "        optimizer.step()\n",
    "\n",
    "        ## Informació de debug\n",
    "        if batch_idx % log_interval == 0 and verbose:\n",
    "            print('Train Epoch: {} [{}/{} ({:.0f}%)]\\tLoss: {:.6f}, Average: {:.6f}'.format(\n",
    "                epoch, batch_idx * len(data), len(train_loader.dataset),\n",
    "                100. * batch_idx / len(train_loader), loss.item(), loss.item()/ len(data)))\n",
    "        loss_v += loss.item()\n",
    "\n",
    "    loss_v /= len(train_loader.dataset)\n",
    "    print(f'\\n Epoch {epoch} Train set: Average loss: {loss_v}')\n",
    " \n",
    "    return loss_v\n",
    "\n",
    "\n",
    "def test(model, device, test_loader,loss_fn):\n",
    "    model.eval() # Posam la xarxa en mode avaluació\n",
    "\n",
    "    test_loss = 0\n",
    "    correct = 0\n",
    "\n",
    "    with torch.no_grad(): # desactiva el càlcul de gradients, no ho necessitam per l'inferència. Estalvia memòria i fa més ràpids els càlculs\n",
    "        for data, target in test_loader:\n",
    "            data, target = data.to(device), target.to(device)\n",
    "            output = model(data)\n",
    "            test_loss +=  loss_fn(output, target) \n",
    "            pred = output.argmax(dim=1, keepdim=True)  # index amb la max probabilitat\n",
    "            correct += pred.eq(target.view_as(pred)).sum().item()\n",
    " \n",
    "    # Informació de debug\n",
    "    test_loss /= len(test_loader.dataset)\n",
    "\n",
    "    print('\\nTest set: Average loss: {:.4f}, Accuracy: {}/{} ({:.0f}%)\\n'.format(\n",
    "        test_loss, correct, len(test_loader.dataset),\n",
    "        100. * correct / len(test_loader.dataset)))\n",
    "    \n",
    "    return test_loss"
   ]
  },
  {
   "cell_type": "markdown",
   "metadata": {
    "id": "RBGKL43vsUnD"
   },
   "source": [
    "A continuació definim els paràmetres d'entrenament i el bucle principal:"
   ]
  },
  {
   "cell_type": "code",
   "execution_count": 85,
   "metadata": {
    "id": "cNIBWqAwsVSb",
    "tags": []
   },
   "outputs": [
    {
     "name": "stdout",
     "output_type": "stream",
     "text": [
      "\n",
      " Epoch 0 Train set: Average loss: 2.251358499590556\n",
      "\n",
      "Test set: Average loss: 2.0757, Accuracy: 21763/40000 (54%)\n",
      "\n",
      "\n",
      " Epoch 1 Train set: Average loss: 1.7409311627388\n",
      "\n",
      "Test set: Average loss: 1.5757, Accuracy: 36392/40000 (91%)\n",
      "\n",
      "\n",
      " Epoch 2 Train set: Average loss: 1.5524433531125386\n",
      "\n",
      "Test set: Average loss: 1.5413, Accuracy: 37177/40000 (93%)\n",
      "\n",
      "\n",
      " Epoch 3 Train set: Average loss: 1.5337736833890279\n",
      "\n",
      "Test set: Average loss: 1.5298, Accuracy: 37544/40000 (94%)\n",
      "\n",
      "\n",
      " Epoch 4 Train set: Average loss: 1.5251701360384624\n",
      "\n",
      "Test set: Average loss: 1.5228, Accuracy: 37773/40000 (94%)\n",
      "\n",
      "\n",
      " Epoch 5 Train set: Average loss: 1.5193570943832397\n",
      "\n",
      "Test set: Average loss: 1.5177, Accuracy: 37938/40000 (95%)\n",
      "\n",
      "\n",
      " Epoch 6 Train set: Average loss: 1.5148658113479614\n",
      "\n",
      "Test set: Average loss: 1.5138, Accuracy: 38066/40000 (95%)\n",
      "\n",
      "\n",
      " Epoch 7 Train set: Average loss: 1.5111578330039979\n",
      "\n",
      "Test set: Average loss: 1.5105, Accuracy: 38187/40000 (95%)\n",
      "\n",
      "\n",
      " Epoch 8 Train set: Average loss: 1.5079683007558187\n",
      "\n",
      "Test set: Average loss: 1.5077, Accuracy: 38298/40000 (96%)\n",
      "\n",
      "\n",
      " Epoch 9 Train set: Average loss: 1.5051722097396851\n",
      "\n",
      "Test set: Average loss: 1.5052, Accuracy: 38379/40000 (96%)\n",
      "\n"
     ]
    }
   ],
   "source": [
    "torch.manual_seed(33)\n",
    "\n",
    "# El següent ens permet emprar l'entorn de cuda. Si estam emprant google colab el podem activar a \"Entorno de ejecución\"\n",
    "use_cuda = True\n",
    "if use_cuda:\n",
    "    device = torch.device(\"cuda\")\n",
    "else:\n",
    "    device = torch.device(\"cpu\")\n",
    "\n",
    "# Paràmetres bàsics\n",
    "epochs = 10 #  ¿?\n",
    "lr =  1e-4#  ¿?\n",
    "\n",
    "model = Net().to(device)\n",
    "\n",
    "# Stochastic gradient descent\n",
    "optimizer = optim.SGD(model.parameters(), lr=lr)\n",
    "\n",
    "# Guardam el valor de pèrdua mig   de cada època, per fer el gràfic final\n",
    "train_l = np.zeros((epochs))\n",
    "test_l = np.zeros((epochs))\n",
    "\n",
    "loss_fn =  nn.CrossEntropyLoss(reduction=\"sum\")\n",
    "\n",
    "# Bucle d'entrenament\n",
    "for epoch in range(0, epochs):\n",
    "    train_l[epoch] = train(model, device, train_loader, optimizer, epoch, loss_fn, verbose=False)\n",
    "    test_l[epoch]  = test(model, device, test_loader, loss_fn)\n"
   ]
  },
  {
   "cell_type": "markdown",
   "metadata": {},
   "source": [
    "Mostram la gràfica resultat de l'entrenament"
   ]
  },
  {
   "cell_type": "code",
   "execution_count": 81,
   "metadata": {
    "id": "UFy6vECD8Pbq"
   },
   "outputs": [
    {
     "data": {
      "image/png": "[encoded data removed]",
      "text/plain": [
       "<Figure size 432x288 with 1 Axes>"
      ]
     },
     "metadata": {
      "needs_background": "light"
     },
     "output_type": "display_data"
    }
   ],
   "source": [
    "plt.title(\"Resultats de l'entrenament\")\n",
    "plt.plot(range(1, (epochs + 1)), train_l,  c=\"red\", label=\"train\")\n",
    "plt.plot(range(1,  (epochs + 1)), test_l,  c=\"green\", label=\"test\")\n",
    "plt.legend();"
   ]
  },
  {
   "cell_type": "markdown",
   "metadata": {},
   "source": [
    "Avaluam amb una mètrica objectiva\n",
    "\n",
    "Per fer això hem de recorrer tots els _batch_ del conjunt de test i avaluar-los. Finalment empram la mètrica ja coneguda de la llibreria _sklearn_ per calcular-la:"
   ]
  },
  {
   "cell_type": "code",
   "execution_count": 83,
   "metadata": {
    "tags": []
   },
   "outputs": [
    {
     "name": "stdout",
     "output_type": "stream",
     "text": [
      "Accuracy: 0.959475\n"
     ]
    }
   ],
   "source": [
    "from sklearn.metrics import accuracy_score\n",
    "\n",
    "model.eval() # Posam la xarxa en mode avaluació\n",
    "\n",
    "targets = []\n",
    "predictions = []\n",
    "\n",
    "with torch.no_grad(): # desactiva el càlcul de gradients, no ho necessitam per l'inferència. Estalvia memòria i fa més ràpids els càlculs\n",
    "    for data, target in test_loader:\n",
    "        data, target = data.to(device), target.to(device)\n",
    "        \n",
    "        output = model(data)\n",
    "        pred = output.argmax(dim=1, keepdim=True)  # index amb la max probabilitat\n",
    "        targets.extend(target.tolist())\n",
    "        predictions.extend(torch.flatten(pred.cpu()).tolist())\n",
    "        \n",
    "targets = np.asarray(targets)\n",
    "predictions = np.asarray(predictions)\n",
    "\n",
    "print(f\"Accuracy: {accuracy_score(targets, predictions)}\")"
   ]
  }
 ],
 "metadata": {
  "colab": {
   "collapsed_sections": [],
   "provenance": []
  },
  "gpuClass": "standard",
  "kernelspec": {
   "display_name": "Python 3.8",
   "language": "python",
   "name": "python3"
  },
  "language_info": {
   "codemirror_mode": {
    "name": "ipython",
    "version": 3
   },
   "file_extension": ".py",
   "mimetype": "text/x-python",
   "name": "python",
   "nbconvert_exporter": "python",
   "pygments_lexer": "ipython3",
   "version": "3.8.10"
  }
 },
 "nbformat": 4,
 "nbformat_minor": 4
}
