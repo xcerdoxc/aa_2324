{
 "cells": [
  {
   "cell_type": "code",
   "execution_count": 1,
   "metadata": {},
   "outputs": [],
   "source": [
    "import os\n",
    "import shutil\n",
    "import xml.etree.ElementTree as ET"
   ]
  },
  {
   "cell_type": "markdown",
   "metadata": {},
   "source": [
    "## Carregar el dataset\n",
    "Eliminam els formats que no són imatges jpg"
   ]
  },
  {
   "cell_type": "code",
   "execution_count": null,
   "metadata": {},
   "outputs": [],
   "source": []
  },
  {
   "cell_type": "markdown",
   "metadata": {},
   "source": [
    "## Crear labels en format Yolo"
   ]
  },
  {
   "cell_type": "code",
   "execution_count": 11,
   "metadata": {},
   "outputs": [
    {
     "name": "stdout",
     "output_type": "stream",
     "text": [
      "XML file not found for Abyssinian_104.\n",
      "XML file not found for Bengal_111.\n",
      "XML file not found for samoyed_10.\n",
      "XML file not found for Bengal_175.\n",
      "XML file not found for Egyptian_Mau_14.\n",
      "XML file not found for Egyptian_Mau_156.\n",
      "XML file not found for Egyptian_Mau_186.\n",
      "XML file not found for Ragdoll_199.\n",
      "XML file not found for saint_bernard_15.\n"
     ]
    }
   ],
   "source": [
    "def parse_xml_and_create_txt(xml_file, output_folder):\n",
    "    # Parse the XML file\n",
    "    tree = ET.parse(xml_file)\n",
    "    root = tree.getroot()\n",
    "\n",
    "    # Extract information from the XML\n",
    "    filename = root.find('filename').text\n",
    "    xmin = int(root.find('.//xmin').text)\n",
    "    ymin = int(root.find('.//ymin').text)\n",
    "    xmax = int(root.find('.//xmax').text)\n",
    "    ymax = int(root.find('.//ymax').text)\n",
    "\n",
    "    # Nomralize to it's width and height\n",
    "    width = int(root.find('.//width').text)\n",
    "    height = int(root.find('.//height').text)\n",
    "\n",
    "    # Determine the label based on the first character of the filename\n",
    "    label = 0 if filename[0].isupper() else 1\n",
    "\n",
    "    # Create the text content\n",
    "    content = f\"{label} {xmin / width} {ymin / height} {xmax / width} {ymax / height}\"\n",
    "\n",
    "    # Create a txt file with the same name as the filename (without extension)\n",
    "    txt_filename = os.path.splitext(filename)[0] + '.txt'\n",
    "    \n",
    "    # Save the txt file in the 'labels' folder\n",
    "    txt_path = os.path.join(output_folder, txt_filename)\n",
    "    with open(txt_path, 'w') as txt_file:\n",
    "        txt_file.write(content)\n",
    "\n",
    "\n",
    "# Specify the directory containing XML files\n",
    "xml_folder = 'datasets/old_pets/annotations/xmls'\n",
    "images_folder = 'datasets/old_pets/images'\n",
    "train_folder = 'datasets/Yolo/images'\n",
    "\n",
    "# Specify the output folder for text files\n",
    "output_folder = 'datasets/Yolo/labels'\n",
    "\n",
    "# Create the 'labels' folder if it doesn't exist\n",
    "os.makedirs(output_folder, exist_ok=True)\n",
    "\n",
    "\n",
    "# Directory containing the list of filenames in a text file\n",
    "trainval_path = 'datasets/old_pets/annotations/trainval.txt'\n",
    "\n",
    "# Read filenames from the text file\n",
    "with open(trainval_path, 'r') as file:\n",
    "    lines = file.readlines()\n",
    "\n",
    "# Loop through lines in the txt file\n",
    "for line in lines:\n",
    "    # Extract the filename (first word before space)\n",
    "    filename = line.split()[0]\n",
    "\n",
    "    # Construct the XML file path\n",
    "    xml_file_path = os.path.join(xml_folder, f\"{filename}.xml\")\n",
    "\n",
    "    # Check if the XML file exists and process it\n",
    "    if os.path.exists(xml_file_path):\n",
    "        parse_xml_and_create_txt(xml_file_path, output_folder)\n",
    "        image_source_path = os.path.join(images_folder, f\"{filename}.jpg\")\n",
    "        image_destination_path = os.path.join(train_folder, f\"{filename}.jpg\")\n",
    "\n",
    "        # Copy the image file\n",
    "        shutil.copy(image_source_path, image_destination_path)\n",
    "    else:\n",
    "        print(f\"XML file not found for {filename}.\")\n",
    "\n",
    "# Iterate through XML files in the specified folder\n",
    "#for xml_file in os.listdir(xml_folder):\n",
    "#    if xml_file.endswith('.xml'):\n",
    "#        xml_path = os.path.join(xml_folder, xml_file)\n",
    "#        parse_xml_and_create_txt(xml_path, output_folder)"
   ]
  },
  {
   "cell_type": "code",
   "execution_count": null,
   "metadata": {},
   "outputs": [],
   "source": [
    "!pip install -U ultralytics"
   ]
  },
  {
   "cell_type": "code",
   "execution_count": 5,
   "metadata": {},
   "outputs": [],
   "source": [
    "!python yolov5/train.py --img 640 --batch -1 --epochs 1 --data pets.yaml --weights yolov5n.pt"
   ]
  }
 ],
 "metadata": {
  "kernelspec": {
   "display_name": "Python 3",
   "language": "python",
   "name": "python3"
  },
  "language_info": {
   "codemirror_mode": {
    "name": "ipython",
    "version": 3
   },
   "file_extension": ".py",
   "mimetype": "text/x-python",
   "name": "python",
   "nbconvert_exporter": "python",
   "pygments_lexer": "ipython3",
   "version": "3.11.7"
  }
 },
 "nbformat": 4,
 "nbformat_minor": 2
}
