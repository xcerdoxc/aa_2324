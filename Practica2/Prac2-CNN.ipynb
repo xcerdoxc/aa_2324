{
 "cells": [
  {
   "cell_type": "markdown",
   "metadata": {},
   "source": [
    "# Pràctica 2\n",
    "### Autors:\n",
    "<ul>\n",
    "    <li>Gerard Medina</li>\n",
    "    <li>Xisco Cerdó</li>\n",
    "</ul>"
   ]
  },
  {
   "cell_type": "markdown",
   "metadata": {},
   "source": [
    "## Imports"
   ]
  },
  {
   "cell_type": "code",
   "execution_count": 4,
   "metadata": {},
   "outputs": [],
   "source": [
    "import os\n",
    "import shutil\n",
    "import torch\n",
    "from torchvision import transforms, datasets\n",
    "import matplotlib.pyplot as plt"
   ]
  },
  {
   "cell_type": "markdown",
   "metadata": {},
   "source": [
    "## Classificar el Dataset"
   ]
  },
  {
   "cell_type": "code",
   "execution_count": 5,
   "metadata": {},
   "outputs": [],
   "source": [
    "# Set the path to the dataset directory\n",
    "old_dataset = \"data/old_pets/images/\"\n",
    "\n",
    "# Set the paths for the output directories\n",
    "carpeta_moixos = \"data/pets/CNN/moix/\"\n",
    "carpeta_cans = \"data/pets/CNN/ca/\"\n",
    "\n",
    "# Create the output directories if they don't exist\n",
    "os.makedirs(carpeta_moixos, exist_ok=True)\n",
    "os.makedirs(carpeta_cans, exist_ok=True)\n",
    "\n",
    "# Get the list of all files in the dataset directory\n",
    "all_files = os.listdir(old_dataset)\n",
    "\n",
    "# Loop through each file and copy it to the appropriate directory\n",
    "for filename in all_files:\n",
    "    full_path = os.path.join(old_dataset, filename)\n",
    "    if filename[0].islower():\n",
    "        shutil.copy(full_path, os.path.join(carpeta_cans, filename))\n",
    "    elif filename[0].isupper():\n",
    "        shutil.copy(full_path, os.path.join(carpeta_moixos, filename))"
   ]
  },
  {
   "cell_type": "markdown",
   "metadata": {},
   "source": [
    "## Carregar el Dataset"
   ]
  },
  {
   "cell_type": "code",
   "execution_count": 6,
   "metadata": {},
   "outputs": [],
   "source": [
    "new_dataset = \"data/pets/CNN/\"\n",
    "\n",
    "# Define the transformations to be applied to the dataset\n",
    "transform = transforms.Compose([\n",
    "    transforms.Resize(256),\n",
    "    transforms.CenterCrop(224),\n",
    "    transforms.ToTensor(),\n",
    "    transforms.Normalize(mean=[0.485, 0.456, 0.406], std=[0.229, 0.224, 0.225])\n",
    "])\n",
    "\n",
    "# Load the dataset\n",
    "dataset = datasets.ImageFolder(root=new_dataset, transform=transform)\n",
    "\n",
    "# Define the data loader\n",
    "batch_size = 32\n",
    "data_loader = torch.utils.data.DataLoader(dataset, batch_size=batch_size, shuffle=True)"
   ]
  },
  {
   "cell_type": "markdown",
   "metadata": {},
   "source": [
    "## Mostrar exemples nou Dataset"
   ]
  },
  {
   "cell_type": "code",
   "execution_count": null,
   "metadata": {},
   "outputs": [],
   "source": [
    "# Print the length of the dataset\n",
    "print(\"Number of images in dataset: \", len(dataset))\n",
    "\n",
    "# Show some sample images\n",
    "fig=plt.figure(figsize=(8, 8))\n",
    "columns = 4\n",
    "rows = 5\n",
    "for i in range(1, columns*rows +1):\n",
    "    img_idx = i*100\n",
    "    img, label = dataset[img_idx]\n",
    "    fig.add_subplot(rows, columns, i)\n",
    "    plt.title(\"Label: \"+dataset.classes[label])\n",
    "    plt.imshow(img.permute(1, 2, 0))\n",
    "plt.show()"
   ]
  },
  {
   "cell_type": "markdown",
   "metadata": {},
   "source": []
  }
 ],
 "metadata": {
  "kernelspec": {
   "display_name": "Python 3",
   "language": "python",
   "name": "python3"
  },
  "language_info": {
   "codemirror_mode": {
    "name": "ipython",
    "version": 3
   },
   "file_extension": ".py",
   "mimetype": "text/x-python",
   "name": "python",
   "nbconvert_exporter": "python",
   "pygments_lexer": "ipython3",
   "version": "3.11.7"
  }
 },
 "nbformat": 4,
 "nbformat_minor": 2
}
