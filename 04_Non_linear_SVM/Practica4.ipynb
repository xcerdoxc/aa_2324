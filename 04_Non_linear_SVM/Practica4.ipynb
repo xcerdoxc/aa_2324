{
 "cells": [
  {
   "cell_type": "markdown",
   "source": [
    "# Pràctica 4 - Altres kernels\n",
    "\n",
    "En sessions anteriors hem treballat amb classificadors lineals, entre ells les SVM, en aquesta pràctica ho farem amb SVM amb _kernels_ que permeten fer transformacions a les dades que no ho són.\n",
    "\n",
    "Cada vegada que cream una instància d'un objecte de la classe `SVC` aquest té associat un *kernel* que gestiona la part de mapatge. Cal recordar que els *kernel* són funcions matemàtiques que mapegen la nostra distribució a una dimensió superior. Realment, només calculen la relació entre un parell d'observacions a la distribució com si estiguessin en una dimensió superior sense la necessitat de fer la transformació.\n",
    "\n",
    "\n",
    "## Implementant el nostre *kernel* lineal\n",
    "\n",
    "El kernel lineal és molt simple, la seva fórmula és la següent:\n",
    "\n",
    "$$K(x,z) = <x · z'>,$$\n",
    "\n",
    "A continuació veureu la seva implementació. Fixeu-vos que realitzem el producte escalar entre l'array de mostres d'entrenament `x1` i les noves observacions `x2` (transposada) de manera que obtenim una matriu on tenim una mesura de similitud entre cada una de les mostres."
   ],
   "metadata": {
    "collapsed": false
   }
  },
  {
   "cell_type": "code",
   "execution_count": 8,
   "outputs": [],
   "source": [
    "import numpy as np\n",
    "def kernel_lineal(x1, x2):\n",
    "     return x1.dot(x2.T)"
   ],
   "metadata": {
    "collapsed": false
   }
  },
  {
   "cell_type": "markdown",
   "source": [
    "Ara el podem emprar per classificar. El constructor de la classe  `SVC` té el paràmetre anomenat `kernel` que a més dels que ja es troben definits a la llibreria ens permet assignar funcions com la que hem definit prèviament.\n",
    "\n",
    "### Feina 1\n",
    "\n",
    "Comprovar que emprant el *kernel* definit previament tenim els mateixos resultats que amb l'exercici de la setmana anterior.\n"
   ],
   "metadata": {
    "collapsed": false
   }
  },
  {
   "cell_type": "markdown",
   "source": [
    "\n",
    "##  *kernel* gaussià\n",
    "\n",
    "\n",
    "El _kernel_ gaussiá també conegut com `RBF` (_Radial Basis Function_) té la següent formulació:\n",
    "\n",
    "$$ K(x,z) = exp(-\\frac{||x-z||^2}{2\\sigma^2})$$\n",
    "\n",
    "La implementació particular de la llibreria _Scikit_ substitueix $\\frac{1}{{2\\sigma^2}}$ per $\\gamma$. I per tant ens queda:\n",
    "\n",
    "$$ K(x,z) = exp(-\\gamma||x-z||^2)$$\n",
    "\n",
    "Com hem definit, $\\gamma$ és l'inversa de la desviació estàndard del _kernel_ `RBF` i s'utilitza com a mesura de semblança entre dos punts. Intuïtivament, un valor **gamma petit defineix una funció gaussiana amb una gran variància**. En aquest cas, dos punts es poden considerar semblants encara que estiguin lluny l'un de l'altre. D'altra banda, un valor **gamma gran significa definir una funció gaussiana amb una petita variància** i en aquest cas, dos punts es consideren semblants només si estan a prop l'un de l'altre. Podeu consultar el _notebook_ `SVC_parameters` per veure l'efecte de modificar aquest valor en la classificació de dades.\n",
    "\n",
    "### Feina 2\n",
    "\n",
    "Implementar un _kernel_ gaussià i comprovar que obteniu els mateixos resultats que usant el _kernel_ RBF de la llibreria _Scikit_, amb els mateixos valors de `C` i `gamma`. La funció que implementareu ha de tenir 3 paràmetres: els conjunts de dades $x_1$ i $x_2$ i el valor de $\\gamma$.\n",
    "\n",
    "A la llibreria _Scipy_ trobareu la funció `distance_matrix` que computa la distància entre totes les parelles de valors dels dos vectors que rebi per paràmetre ([enllaç](https://docs.scipy.org/doc/scipy/reference/generated/scipy.spatial.distance_matrix.html))\n"
   ],
   "metadata": {
    "collapsed": false
   }
  },
  {
   "cell_type": "markdown",
   "source": [
    "## _Kernel_ polinòmic\n",
    "\n",
    "El _kernel_ lineal que hem implementat abans no és més que un cas particular del cas polinòmic que es defineix com:\n",
    "$$ K(x,z) = (<x · z'> + r)^d $$\n",
    "\n",
    "A la llibreria _Scikit_ r es defineix amb el paràmetre `coef0` i per defecte té valor 0.\n",
    "\n",
    "### Feina 3\n",
    "\n",
    "Programar una funció que implementi el _kernel_ polinòmic i comprovar que obteniu els mateixos resultats que usant el _kernel_ `poly` de la llibreria _Scikit_, amb els mateixos valors de `C` i `degree`. La funció que implementareu ha de tenir 3 paràmetres: els conjunts de dades $x_1$ i $x_2$ i el grau del polinomi.\n",
    "\n",
    "\n",
    "## Una altra manera d'entendre els _kernels_\n",
    "Per acabar d'entendre la funció dels _kernels_ a les SVM, en aquesta darrera passa el que farem és en lloc d'aplicar un _kernel_, modificarem les dades amb totes les combinacions polinomials i emprarem un *kernel lineal* per classificar tot esperant tenir els mateixos resultats que si apliquem un _kernel_ polinòmic del mateix grau.\n",
    "\n",
    "La funció `PolynomialFeatures` genera una nova matriu de característiques formada per totes les combinacions polinomials de les característiques amb un grau inferior o igual al grau especificat.\n",
    "\n",
    "### Feina 4\n",
    "\n",
    "Emprar la funció `PolynomialFeatures` per obtenir un nou conjunt de dades de grau 3. Classificar-les amb un `kernel` lineal i comprovar que els resultats són similars als que tenim en la **Feina3**. Per què creus que no són idèntics?"
   ],
   "metadata": {
    "collapsed": false
   }
  }
 ],
 "metadata": {
  "kernelspec": {
   "display_name": "Python 3",
   "language": "python",
   "name": "python3"
  },
  "language_info": {
   "codemirror_mode": {
    "name": "ipython",
    "version": 2
   },
   "file_extension": ".py",
   "mimetype": "text/x-python",
   "name": "python",
   "nbconvert_exporter": "python",
   "pygments_lexer": "ipython2",
   "version": "2.7.6"
  }
 },
 "nbformat": 4,
 "nbformat_minor": 0
}
